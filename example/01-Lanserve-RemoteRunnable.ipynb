{
 "cells": [
  {
   "cell_type": "markdown",
   "metadata": {},
   "source": [
    "## RemoteRunnable 사용\n",
    "\n",
    "FastAPI 서버를 사용하여 구동하고 있는 langserve 기반 Runnable 을 사용하는 방법입니다."
   ]
  },
  {
   "cell_type": "code",
   "execution_count": 1,
   "metadata": {},
   "outputs": [
    {
     "name": "stdout",
     "output_type": "stream",
     "text": [
      "삼성전자가 개발한 생성형 AI의 이름은 '삼성 가우스'입니다.\n",
      "\n",
      "**Source**\n",
      "- [1] SPRI_AI_Brief_2023년12월호_F.pdf, Page 10"
     ]
    }
   ],
   "source": [
    "from langserve import RemoteRunnable\n",
    "from langchain_teddynote.messages import stream_response\n",
    "\n",
    "# 서버 주소 설정(localhost 기준)\n",
    "rag_chain = RemoteRunnable(\"http://0.0.0.0:8000/rag\")\n",
    "\n",
    "# 체인 실행\n",
    "answer = rag_chain.stream(\"삼성전자가 개발한 생성형 AI 의 이름은?\")\n",
    "stream_response(answer)"
   ]
  },
  {
   "cell_type": "markdown",
   "metadata": {},
   "source": [
    "## NGROK 사용"
   ]
  },
  {
   "cell_type": "code",
   "execution_count": null,
   "metadata": {},
   "outputs": [],
   "source": [
    "from langserve import RemoteRunnable\n",
    "from langchain_teddynote.messages import stream_response\n",
    "\n",
    "# 서버 주소 설정(NGROK 도메인 주소)\n",
    "rag_chain = RemoteRunnable(\"https://poodle-deep-marmot.ngrok-free.app/rag\")\n",
    "\n",
    "# 체인 실행\n",
    "answer = rag_chain.stream(\"삼성전자가 개발한 생성형 AI 의 이름은?\")\n",
    "stream_response(answer)"
   ]
  }
 ],
 "metadata": {
  "kernelspec": {
   "display_name": "py-test",
   "language": "python",
   "name": "python3"
  },
  "language_info": {
   "codemirror_mode": {
    "name": "ipython",
    "version": 3
   },
   "file_extension": ".py",
   "mimetype": "text/x-python",
   "name": "python",
   "nbconvert_exporter": "python",
   "pygments_lexer": "ipython3",
   "version": "3.11.9"
  }
 },
 "nbformat": 4,
 "nbformat_minor": 2
}
